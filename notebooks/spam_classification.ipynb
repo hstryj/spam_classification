{
 "cells": [
  {
   "cell_type": "markdown",
   "id": "f9a6367e",
   "metadata": {},
   "source": [
    "# Wczytanie i podstawowa eksploracja danych"
   ]
  },
  {
   "cell_type": "code",
   "execution_count": null,
   "id": "2c34e7e6",
   "metadata": {},
   "outputs": [],
   "source": [
    "import sys\n",
    "import os\n",
    "sys.path.append(os.path.abspath(\"..\"))\n",
    "from src.data_loader import load_data, basic_info\n",
    "\n",
    "# Wczytanie danych\n",
    "df = load_data('../data/SMSSpamCollection')\n",
    "\n",
    "# Podstawowe informacje\n",
    "basic_info(df)"
   ]
  },
  {
   "cell_type": "markdown",
   "id": "23592097",
   "metadata": {},
   "source": [
    "# Przygotowanie danych do trenowania modelu"
   ]
  },
  {
   "cell_type": "code",
   "execution_count": null,
   "id": "539e1e38",
   "metadata": {},
   "outputs": [],
   "source": [
    "import sys\n",
    "import os\n",
    "sys.path.append(os.path.abspath(\"..\"))\n",
    "from src.data_loader import load_data\n",
    "from src.preprocessing import preprocess_messages\n",
    "from src.feature_extraction import vectorize_messages\n",
    "\n",
    "# Wczytanie danych\n",
    "df = load_data('../data/SMSSpamCollection')\n",
    "\n",
    "# Preprocessing\n",
    "df = preprocess_messages(df)\n",
    "\n",
    "# Wektoryzacja\n",
    "X, vectorizer = vectorize_messages(df[\"message\"])\n",
    "\n",
    "# Konwersja labeli: spam = 1, ham = 0\n",
    "y = df[\"label\"].apply(lambda x: 1 if x == \"spam\" else 0)\n",
    "\n",
    "X.shape, y.shape"
   ]
  },
  {
   "cell_type": "code",
   "execution_count": null,
   "id": "932118e1",
   "metadata": {},
   "outputs": [],
   "source": [
    "import nltk\n",
    "\n",
    "nltk.download('punkt')"
   ]
  },
  {
   "cell_type": "code",
   "execution_count": null,
   "id": "0b9b26a9",
   "metadata": {},
   "outputs": [],
   "source": [
    "from sklearn.model_selection import train_test_split, GridSearchCV\n",
    "from sklearn.naive_bayes import MultinomialNB\n",
    "from sklearn.metrics import classification_report, confusion_matrix, accuracy_score\n",
    "\n",
    "# Podział na zbiór treningowy i testowy\n",
    "X_train, X_test, y_train, y_test = train_test_split(X, y, test_size=0.2, random_state=42)\n",
    "\n",
    "# Definicja modelu\n",
    "nb = MultinomialNB()\n",
    "\n",
    "# Parametry do GridSearch\n",
    "param_grid = {'alpha': [0.1, 0.5, 1.0, 5.0, 10.0]}\n",
    "\n",
    "# GridSearchCV - szukanie najlepszego alpha\n",
    "grid = GridSearchCV(nb, param_grid, cv=5, scoring='f1', n_jobs=-1)\n",
    "grid.fit(X_train, y_train)\n",
    "\n",
    "# Najlepsze parametry\n",
    "print(\"Najlepsze alpha:\", grid.best_params_)\n",
    "\n",
    "# Predykcje na zbiorze testowym\n",
    "y_pred = grid.predict(X_test)\n",
    "\n",
    "# Ewaluacja\n",
    "print(\"\\nAccuracy:\", accuracy_score(y_test, y_pred))\n",
    "print(\"\\nClassification report:\\n\", classification_report(y_test, y_pred))\n",
    "print(\"\\nConfusion matrix:\\n\", confusion_matrix(y_test, y_pred))"
   ]
  },
  {
   "cell_type": "code",
   "execution_count": null,
   "id": "3c3ca6d0",
   "metadata": {},
   "outputs": [],
   "source": [
    "import joblib\n",
    "\n",
    "# Zapisz model\n",
    "joblib.dump(grid.best_estimator_, '../models/spam_classifier_model.joblib')\n",
    "\n",
    "# Zapisz vectorizer\n",
    "joblib.dump(vectorizer, '../models/vectorizer.joblib')"
   ]
  },
  {
   "cell_type": "code",
   "execution_count": null,
   "id": "a0523eac",
   "metadata": {},
   "outputs": [],
   "source": [
    "import sys\n",
    "import os\n",
    "sys.path.append(os.path.abspath(\"..\"))\n",
    "\n",
    "from src.predict import load_model_and_vectorizer, predict_message\n",
    "\n",
    "# ladowanie modelu i vectorizer\n",
    "model, vectorizer = load_model_and_vectorizer()\n",
    "\n",
    "# Przykładowe predykcje\n",
    "print(predict_message(\"Congratulations! You have won a free iPhone!\", model, vectorizer))\n",
    "print(predict_message(\"Hi, are we meeting at 5 pm today?\", model, vectorizer))\n",
    "print(predict_message(\"Win 1000$ cash now!\", model, vectorizer))"
   ]
  }
 ],
 "metadata": {
  "kernelspec": {
   "display_name": "ai",
   "language": "python",
   "name": "python3"
  },
  "language_info": {
   "codemirror_mode": {
    "name": "ipython",
    "version": 3
   },
   "file_extension": ".py",
   "mimetype": "text/x-python",
   "name": "python",
   "nbconvert_exporter": "python",
   "pygments_lexer": "ipython3",
   "version": "3.11.12"
  }
 },
 "nbformat": 4,
 "nbformat_minor": 5
}
