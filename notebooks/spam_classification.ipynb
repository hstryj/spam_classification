{
 "cells": [
  {
   "cell_type": "markdown",
   "id": "260c0b66",
   "metadata": {},
   "source": [
    "# Wczytanie i podstawowa eksploracja danych"
   ]
  },
  {
   "cell_type": "code",
   "execution_count": 12,
   "id": "2c34e7e6",
   "metadata": {},
   "outputs": [
    {
     "name": "stdout",
     "output_type": "stream",
     "text": [
      "Pierwsze 5 wiadomości:\n",
      "  label                                            message\n",
      "0   ham  Go until jurong point, crazy.. Available only ...\n",
      "1   ham                      Ok lar... Joking wif u oni...\n",
      "2  spam  Free entry in 2 a wkly comp to win FA Cup fina...\n",
      "3   ham  U dun say so early hor... U c already then say...\n",
      "4   ham  Nah I don't think he goes to usf, he lives aro...\n",
      "\n",
      "Statystyki labeli:\n",
      "label\n",
      "ham     4825\n",
      "spam     747\n",
      "Name: count, dtype: int64\n",
      "\n",
      "Informacje o danych:\n",
      "<class 'pandas.core.frame.DataFrame'>\n",
      "RangeIndex: 5572 entries, 0 to 5571\n",
      "Data columns (total 2 columns):\n",
      " #   Column   Non-Null Count  Dtype \n",
      "---  ------   --------------  ----- \n",
      " 0   label    5572 non-null   object\n",
      " 1   message  5572 non-null   object\n",
      "dtypes: object(2)\n",
      "memory usage: 87.2+ KB\n",
      "None\n"
     ]
    }
   ],
   "source": [
    "import sys\n",
    "import os\n",
    "sys.path.append(os.path.abspath(\"..\"))\n",
    "from src.data_loader import load_data, basic_info\n",
    "\n",
    "# Wczytanie danych\n",
    "df = load_data('../data/SMSSpamCollection')\n",
    "\n",
    "# Podstawowe informacje\n",
    "basic_info(df)"
   ]
  },
  {
   "cell_type": "markdown",
   "id": "23592097",
   "metadata": {},
   "source": [
    "# Przygotowanie danych do trenowania modelu"
   ]
  },
  {
   "cell_type": "code",
   "execution_count": 13,
   "id": "539e1e38",
   "metadata": {},
   "outputs": [
    {
     "data": {
      "text/plain": [
       "((5572, 37472), (5572,))"
      ]
     },
     "execution_count": 13,
     "metadata": {},
     "output_type": "execute_result"
    }
   ],
   "source": [
    "import sys\n",
    "import os\n",
    "sys.path.append(os.path.abspath(\"..\"))\n",
    "from src.data_loader import load_data\n",
    "from src.preprocessing import preprocess_messages\n",
    "from src.feature_extraction import vectorize_messages\n",
    "\n",
    "# Wczytanie danych\n",
    "df = load_data('../data/SMSSpamCollection')\n",
    "\n",
    "# Preprocessing\n",
    "df = preprocess_messages(df)\n",
    "\n",
    "# Wektoryzacja\n",
    "X, vectorizer = vectorize_messages(df[\"message\"])\n",
    "\n",
    "# Konwersja labeli: spam = 1, ham = 0\n",
    "y = df[\"label\"].apply(lambda x: 1 if x == \"spam\" else 0)\n",
    "\n",
    "X.shape, y.shape"
   ]
  },
  {
   "cell_type": "code",
   "execution_count": 16,
   "id": "932118e1",
   "metadata": {},
   "outputs": [
    {
     "name": "stderr",
     "output_type": "stream",
     "text": [
      "[nltk_data] Downloading package punkt to\n",
      "[nltk_data]     /Users/hstryjewska/nltk_data...\n",
      "[nltk_data]   Package punkt is already up-to-date!\n"
     ]
    },
    {
     "data": {
      "text/plain": [
       "True"
      ]
     },
     "execution_count": 16,
     "metadata": {},
     "output_type": "execute_result"
    }
   ],
   "source": [
    "import nltk\n",
    "\n",
    "nltk.download('punkt')"
   ]
  },
  {
   "cell_type": "markdown",
   "id": "25ea1579",
   "metadata": {},
   "source": [
    "#  Trenowanie i optymalizacja modelu Naive Bayes"
   ]
  },
  {
   "cell_type": "code",
   "execution_count": 14,
   "id": "0b9b26a9",
   "metadata": {},
   "outputs": [
    {
     "name": "stdout",
     "output_type": "stream",
     "text": [
      "Najlepsze alpha: {'alpha': 5.0}\n",
      "\n",
      "Accuracy: 0.9811659192825112\n",
      "\n",
      "Classification report:\n",
      "               precision    recall  f1-score   support\n",
      "\n",
      "           0       0.98      1.00      0.99       966\n",
      "           1       0.98      0.87      0.93       149\n",
      "\n",
      "    accuracy                           0.98      1115\n",
      "   macro avg       0.98      0.94      0.96      1115\n",
      "weighted avg       0.98      0.98      0.98      1115\n",
      "\n",
      "\n",
      "Confusion matrix:\n",
      " [[964   2]\n",
      " [ 19 130]]\n"
     ]
    }
   ],
   "source": [
    "from sklearn.model_selection import train_test_split, GridSearchCV\n",
    "from sklearn.naive_bayes import MultinomialNB\n",
    "from sklearn.metrics import classification_report, confusion_matrix, accuracy_score\n",
    "\n",
    "# Podział na zbiór treningowy i testowy\n",
    "X_train, X_test, y_train, y_test = train_test_split(X, y, test_size=0.2, random_state=42)\n",
    "\n",
    "# Definicja modelu\n",
    "nb = MultinomialNB()\n",
    "\n",
    "# Parametry do GridSearch\n",
    "param_grid = {'alpha': [0.1, 0.5, 1.0, 5.0, 10.0]}\n",
    "\n",
    "# GridSearchCV - szukanie najlepszego alpha\n",
    "grid = GridSearchCV(nb, param_grid, cv=5, scoring='f1', n_jobs=-1)\n",
    "grid.fit(X_train, y_train)\n",
    "\n",
    "# Najlepsze parametry\n",
    "print(\"Najlepsze alpha:\", grid.best_params_)\n",
    "\n",
    "# Predykcje na zbiorze testowym\n",
    "y_pred = grid.predict(X_test)\n",
    "\n",
    "# Ewaluacja\n",
    "print(\"\\nAccuracy:\", accuracy_score(y_test, y_pred))\n",
    "print(\"\\nClassification report:\\n\", classification_report(y_test, y_pred))\n",
    "print(\"\\nConfusion matrix:\\n\", confusion_matrix(y_test, y_pred))"
   ]
  },
  {
   "cell_type": "markdown",
   "id": "c0df1286",
   "metadata": {},
   "source": [
    "# Zapisanie modeli"
   ]
  },
  {
   "cell_type": "code",
   "execution_count": 17,
   "id": "3c3ca6d0",
   "metadata": {},
   "outputs": [
    {
     "data": {
      "text/plain": [
       "['../models/vectorizer.joblib']"
      ]
     },
     "execution_count": 17,
     "metadata": {},
     "output_type": "execute_result"
    }
   ],
   "source": [
    "import joblib\n",
    "\n",
    "# Zapisz model\n",
    "joblib.dump(grid.best_estimator_, '../models/spam_classifier_model.joblib')\n",
    "\n",
    "# Zapisz vectorizer\n",
    "joblib.dump(vectorizer, '../models/vectorizer.joblib')"
   ]
  },
  {
   "cell_type": "markdown",
   "id": "e51f53a9",
   "metadata": {},
   "source": [
    "# Predykcja nowych wiadomości przy użyciu zapisanego modelu"
   ]
  },
  {
   "cell_type": "code",
   "execution_count": 15,
   "id": "a0523eac",
   "metadata": {},
   "outputs": [
    {
     "name": "stdout",
     "output_type": "stream",
     "text": [
      "Spam\n",
      "Ham\n",
      "Spam\n"
     ]
    }
   ],
   "source": [
    "import sys\n",
    "import os\n",
    "sys.path.append(os.path.abspath(\"..\"))\n",
    "\n",
    "from src.predict import load_model_and_vectorizer, predict_message\n",
    "\n",
    "# ladowanie modelu i vectorizer\n",
    "model, vectorizer = load_model_and_vectorizer()\n",
    "\n",
    "# Przykładowe predykcje\n",
    "print(predict_message(\"Congratulations! You have won a free iPhone!\", model, vectorizer))\n",
    "print(predict_message(\"Hi, are we meeting at 5 pm today?\", model, vectorizer))\n",
    "print(predict_message(\"Win 1000$ cash now!\", model, vectorizer))"
   ]
  }
 ],
 "metadata": {
  "kernelspec": {
   "display_name": "ai",
   "language": "python",
   "name": "python3"
  },
  "language_info": {
   "codemirror_mode": {
    "name": "ipython",
    "version": 3
   },
   "file_extension": ".py",
   "mimetype": "text/x-python",
   "name": "python",
   "nbconvert_exporter": "python",
   "pygments_lexer": "ipython3",
   "version": "3.11.12"
  }
 },
 "nbformat": 4,
 "nbformat_minor": 5
}
